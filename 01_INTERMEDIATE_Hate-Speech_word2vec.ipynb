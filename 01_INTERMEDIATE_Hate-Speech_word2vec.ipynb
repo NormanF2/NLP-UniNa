{
 "cells": [
  {
   "cell_type": "markdown",
   "source": [
    "# Embeddings Exercise\n",
    "## Preparation\n",
    "- 1 Download Word2Vec embeddings from [link](http://www.italianlp.it/resources/italian-word-embeddings/), both are in sqlite file format. Each embedding has 128 dimensions.\n",
    "- 2 Get the [Haspeede 2020](https://ceur-ws.org/Vol-2765/paper162.pdf) dataset\n",
    "- 3 Install pandas and scikit-learn libraries.\n",
    "\n",
    "## Exercise\n",
    "Use word embeddings from point 1 to classify hate speech from dataset at point 2. The Haspedee dataset contains Twitter data labeled with \"Hate\" or \"No-Hate\".\n"
   ],
   "metadata": {
    "collapsed": false
   }
  },
  {
   "cell_type": "code",
   "execution_count": 1,
   "outputs": [],
   "source": [
    "# Insert here paths to embeddings files\n",
    "itwac_path = 'data/word_2_vec/itwac128.sqlite'\n",
    "twitter_path ='data/word_2_vec/twitter128.sqlite'\n",
    "\n",
    "# Insert path to haspedee datasets here\n",
    "haspedee_dataset_path = 'hate_speech/haspeede2020/haspeede2_dev_taskAB.tsv'\n",
    "\n",
    "data_path = twitter_path"
   ],
   "metadata": {
    "collapsed": false
   }
  },
  {
   "cell_type": "code",
   "execution_count": 2,
   "outputs": [],
   "source": [
    "# Import and initializations\n",
    "import pandas as pd\n",
    "import sqlite3\n",
    "import random\n",
    "from sklearn.metrics import accuracy_score, f1_score, recall_score, precision_score\n",
    "\n",
    "id_to_label = {\"0\":\"NoHate\", \"1\": \"Hate\"}\n",
    "text_to_id_map = {}\n",
    "\n",
    "def read_embedings(sqllite_path):\n",
    "    \"\"\" Read sqlite embeddings from sqllite_path and returns them into a pandas DataFrame\n",
    "    \"\"\"\n",
    "    con = sqlite3.connect(sqllite_path)\n",
    "    df = pd.read_sql_query(\"SELECT * FROM store\", con)\n",
    "    con.close()\n",
    "    return  df\n",
    "\n",
    "def read_dataset(input_file):\n",
    "  examples = []\n",
    "  labels = []\n",
    "  with open(input_file, 'r', encoding='utf-8', errors='ignore') as f:\n",
    "      contents = f.read()\n",
    "      file_as_list = contents.splitlines()\n",
    "      random.shuffle(file_as_list)\n",
    "      for line in file_as_list:\n",
    "          if line.startswith(\"id\"):\n",
    "            continue\n",
    "          split = line.split(\"\\t\")\n",
    "          text = split[1]\n",
    "          label = split[2]\n",
    "          text_to_id_map[text] = split[0]\n",
    "          labels.append(label)\n",
    "          examples.append(text)\n",
    "      f.close()\n",
    "  return examples, labels\n"
   ],
   "metadata": {
    "collapsed": false
   }
  },
  {
   "cell_type": "code",
   "execution_count": 3,
   "outputs": [],
   "source": [
    "# Reading embeddings\n",
    "# Each row contains a word and the corresponding embedding (128 dimensions) \n",
    "df = read_embedings(data_path)"
   ],
   "metadata": {
    "collapsed": false
   }
  },
  {
   "cell_type": "code",
   "execution_count": 4,
   "outputs": [],
   "source": [
    "# x contains the textual dataset\n",
    "# y_ref contains the reference label i.e., 0 for no-hate and 1 for hate-\n",
    "x, y_ref = read_dataset(haspedee_dataset_path)"
   ],
   "metadata": {
    "collapsed": false
   }
  },
  {
   "cell_type": "code",
   "execution_count": null,
   "outputs": [],
   "source": [
    "# *****PUT HERE YOUR CODE*****\n",
    "\n",
    "\n",
    "\n",
    "y_hyp = None"
   ],
   "metadata": {
    "collapsed": false
   }
  },
  {
   "cell_type": "code",
   "execution_count": null,
   "outputs": [],
   "source": [
    "# Evaluate your results with these metrics\n",
    "a = accuracy_score(y_ref,y_hyp)\n",
    "p = precision_score(y_ref, y_hyp, pos_label=\"1\")\n",
    "r = recall_score(y_ref, y_hyp, pos_label=\"1\")\n",
    "f1 = f1_score(y_ref, y_hyp, pos_label=\"1\")\n",
    "print(\"precision: \" + str(p) )\n",
    "print(\"recall: \" + str(r) )\n",
    "print(\"accuracy: \" + str(a) )\n",
    "print(\"f1: \" + str(f1) )"
   ],
   "metadata": {
    "collapsed": false
   }
  }
 ],
 "metadata": {
  "kernelspec": {
   "display_name": "Python 3",
   "language": "python",
   "name": "python3"
  },
  "language_info": {
   "codemirror_mode": {
    "name": "ipython",
    "version": 2
   },
   "file_extension": ".py",
   "mimetype": "text/x-python",
   "name": "python",
   "nbconvert_exporter": "python",
   "pygments_lexer": "ipython2",
   "version": "2.7.6"
  }
 },
 "nbformat": 4,
 "nbformat_minor": 0
}
