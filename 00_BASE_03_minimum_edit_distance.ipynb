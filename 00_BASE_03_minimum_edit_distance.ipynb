{
 "cells": [
  {
   "cell_type": "markdown",
   "source": [
    "## MINIMUM EDIT DISTANCE\n",
    "example from 'Speech and Language Processing An Introduction to Natural Language Processing, Computational Linguistics, and Speech Recognition' Jurafsky and Martin 3rd edition"
   ],
   "metadata": {
    "collapsed": false,
    "id": "tIP71otpHiBD"
   }
  },
  {
   "cell_type": "markdown",
   "source": [
    "Same letters have **cost 0** so, if and only if source[i] != target [j]:"
   ],
   "metadata": {
    "id": "4JMVIlhvf-1-"
   }
  },
  {
   "cell_type": "markdown",
   "source": [
    "$\n",
    "\\qquad\\displaystyle d_{ij} = \n",
    "  \\min \\begin{cases} \n",
    "         d_{i-1, j}  + c_\\mathrm{del}(source_{i}) \\\\ \n",
    "         d_{i,j-1}   + c_\\mathrm{ins}(target_{j}) \\\\ \n",
    "         d_{i-1,j-1} + [a_j \\neq b_i] \\cdot c_\\mathrm{sub}(target_{j}, source_{i}) \\end{cases}\n",
    "$"
   ],
   "metadata": {
    "id": "cpuRyF1AH7Fx"
   }
  },
  {
   "cell_type": "code",
   "execution_count": null,
   "outputs": [],
   "source": [
    "#source = 'Stanford President Marc Tessier-Lavigne'\n",
    "#target = 'Stanford University President Marc Tessier-Lavigne'\n",
    "source = 'sittenn'\n",
    "target = 'kittgen'"
   ],
   "metadata": {
    "id": "JUaVbZSEHiBF"
   }
  },
  {
   "cell_type": "code",
   "execution_count": null,
   "outputs": [],
   "source": [
    "import numpy\n",
    "\n",
    "# Costs for the operations\n",
    "INS_COST = 1\n",
    "DEL_COST = 1\n",
    "SUB_COST = 1\n",
    "\n",
    "def minimum_edit_distance(source, target) :\n",
    "\n",
    "    # Create a dp matrix of dimension (source + 1) x (target + 1)\n",
    "    # So we have (target +1) rows and (source +1) columns\n",
    "    dp = [[0] * (len(source) + 1) for i in range(len(target) + 1)]\n",
    "    do = [['-'] * (len(source) + 1) for i in range(len(target) + 1)]\n",
    "\n",
    "    # Initialize the required values of the matrix\n",
    "    for i in range(1, len(target) + 1) :\n",
    "        dp[i][0] = dp[i - 1][0] + INS_COST\n",
    "    for i in range(1, len(source) + 1) :\n",
    "        dp[0][i] = dp[0][i - 1] + DEL_COST\n",
    "\n",
    "    # Maintain the record of opertions\n",
    "    # Record is one tuple. Eg : (INSERT, 'a') or (SUBSTITUTE, 'e', 'r') or (DELETE, 'j')\n",
    "    operations_performed = []\n",
    "\n",
    "    # Build the matrix following the algorithm\n",
    "    for i in range(1, len(target) + 1) :\n",
    "        for j in range(1, len(source) + 1) :\n",
    "            if source[j - 1] == target[i - 1] :\n",
    "                dp[i][j] = dp[i - 1][j - 1]\n",
    "            else :\n",
    "                dp[i][j] =  min(dp[i - 1][j] + INS_COST, \\\n",
    "                                dp[i - 1][j - 1] + SUB_COST, \\\n",
    "                                dp[i][j - 1] + DEL_COST)\n",
    "\n",
    "    # Initialization for backtracking\n",
    "    i = len(target)\n",
    "    j = len(source)\n",
    "\n",
    "    # Backtrack to record the operation performed\n",
    "    while (i != 0 and j != 0) :\n",
    "        # If the character of the source string is equal to the character of the destination string,\n",
    "        # no operation is performed\n",
    "        if target[i - 1] == source[j - 1] :\n",
    "            do[i][j] = 'K'\n",
    "            i -= 1\n",
    "            j -= 1\n",
    "        else :\n",
    "            # Check if the current element is derived from the upper-left diagonal element\n",
    "            if dp[i][j] == dp[i - 1][j - 1] + SUB_COST :\n",
    "                operations_performed.append(('S', source[j - 1], target[i - 1]))\n",
    "                do[i][j] = 'S'\n",
    "                i -= 1\n",
    "                j -= 1\n",
    "            # Check if the current element is derived from the upper element\n",
    "            elif dp[i][j] == dp[i - 1][j] + INS_COST :\n",
    "                operations_performed.append(('I', target[i - 1]))\n",
    "                do[i][j] = 'I'\n",
    "                i -= 1\n",
    "            # Check if the current element is derived from the left element\n",
    "            else :\n",
    "                operations_performed.append(('D', source[j - 1]))\n",
    "                do[i][j] = 'D'\n",
    "                j -= 1\n",
    "                \n",
    "\n",
    "    # If we reach top-most row of the matrix\n",
    "    while (j != 0) :\n",
    "        operations_performed.append(('D', source[j - 1]))\n",
    "        do[i][j] = 'D'\n",
    "        j -= 1\n",
    "\n",
    "    # If we reach left-most column of the matrix\n",
    "    while (i != 0) :\n",
    "        operations_performed.append(('I', target[i - 1]))\n",
    "        do[i][j] = 'I'\n",
    "        i -= 1\n",
    "\n",
    "    # Reverse the list of operations performed as we have operations in reverse\n",
    "    # order because of backtracking\n",
    "    operations_performed.reverse()\n",
    "    return dp, do, operations_performed\n",
    "\n",
    "\n",
    "def print_matrix(distances, source, target):\n",
    "    src = \"#\"+source\n",
    "    tgt = \"#\"+target\n",
    "    r0 = '    '\n",
    "    ri = '- ' * (len(src)+2)\n",
    "    r1 = '    '\n",
    "    for i in range(len(src)):\n",
    "        r1 += f'{src[i]} '\n",
    "        r0 += f'{i} '\n",
    "    #print(r0)\n",
    "    print(ri)\n",
    "    print(r1)\n",
    "    print(ri)\n",
    "    #src -> columns\n",
    "    #tgt -> rows\n",
    "    for t1 in range(len(tgt)):\n",
    "        r = f'{tgt[t1]} |'\n",
    "        for t2 in range(len(src)):\n",
    "          r += f' {str(distances[t1][t2])}'\n",
    "        print(r)\n",
    "        #print(f'{token1[t1]} {int(distances[t1][t2])}', end=\" \")\n",
    "        print()"
   ],
   "metadata": {
    "id": "LJRGclaHHiBF"
   }
  },
  {
   "cell_type": "code",
   "execution_count": null,
   "outputs": [],
   "source": [
    "distances, op_matrix, operations = minimum_edit_distance(source, target)"
   ],
   "metadata": {
    "id": "-DXSGxaQHiBG"
   }
  },
  {
   "cell_type": "code",
   "source": [
    "print_matrix(distances, source, target)"
   ],
   "metadata": {
    "colab": {
     "base_uri": "https://localhost:8080/"
    },
    "id": "csRuFWVmOzv6",
    "outputId": "8f5af3a5-ad6a-46a6-cb28-28dccf072c7b"
   },
   "execution_count": null,
   "outputs": [
    {
     "output_type": "stream",
     "name": "stdout",
     "text": [
      "- - - - - - - - - - \n",
      "    # s i t t e n n \n",
      "- - - - - - - - - - \n",
      "# | 0 1 2 3 4 5 6 7\n",
      "\n",
      "k | 1 1 2 3 4 5 6 7\n",
      "\n",
      "i | 2 2 1 2 3 4 5 6\n",
      "\n",
      "t | 3 3 2 1 2 3 4 5\n",
      "\n",
      "t | 4 4 3 2 1 2 3 4\n",
      "\n",
      "g | 5 5 4 3 2 2 3 4\n",
      "\n",
      "e | 6 6 5 4 3 2 3 4\n",
      "\n",
      "n | 7 7 6 5 4 3 2 3\n",
      "\n"
     ]
    }
   ]
  },
  {
   "cell_type": "markdown",
   "source": [
    "Given that:\n",
    "*   'I' -> Insertion\n",
    "*   'D' -> Deletion\n",
    "*   'S' -> Substitution\n",
    "*   'K' -> Keep previous\n",
    "*   '-' -> No operations till now \n",
    "\n",
    "\n",
    "The list of operations to be performed the following:"
   ],
   "metadata": {
    "id": "nGRwgWmZodK1"
   }
  },
  {
   "cell_type": "code",
   "source": [
    "for i, op in enumerate(operations):\n",
    "  print(f\"({i+1}) {op}\")"
   ],
   "metadata": {
    "colab": {
     "base_uri": "https://localhost:8080/"
    },
    "id": "CtNd87zvmZVi",
    "outputId": "aa5732e9-c5ca-4bcb-addb-3bf945c50b9e"
   },
   "execution_count": null,
   "outputs": [
    {
     "output_type": "stream",
     "name": "stdout",
     "text": [
      "(1) ('S', 's', 'k')\n",
      "(2) ('D', 'n')\n"
     ]
    }
   ]
  },
  {
   "cell_type": "markdown",
   "source": [
    " In the form of path on a matrix:"
   ],
   "metadata": {
    "id": "gm_M_jfyo9p3"
   }
  },
  {
   "cell_type": "code",
   "source": [
    "print_matrix(op_matrix, source, target)"
   ],
   "metadata": {
    "id": "yNg0KFfmjzKD",
    "colab": {
     "base_uri": "https://localhost:8080/"
    },
    "outputId": "cc814d5f-b186-4368-8e8b-0632de1404a2"
   },
   "execution_count": null,
   "outputs": [
    {
     "output_type": "stream",
     "name": "stdout",
     "text": [
      "- - - - - - - - - - \n",
      "    # s i t t e n n \n",
      "- - - - - - - - - - \n",
      "# | - - - - - - - -\n",
      "\n",
      "k | - S - - - - - -\n",
      "\n",
      "i | - - K - - - - -\n",
      "\n",
      "t | - - - K - - - -\n",
      "\n",
      "t | - - - - K - - -\n",
      "\n",
      "e | - - - - - K D -\n",
      "\n",
      "n | - - - - - - - K\n",
      "\n"
     ]
    }
   ]
  }
 ],
 "metadata": {
  "kernelspec": {
   "display_name": "Python 3",
   "language": "python",
   "name": "python3"
  },
  "language_info": {
   "codemirror_mode": {
    "name": "ipython",
    "version": 2
   },
   "file_extension": ".py",
   "mimetype": "text/x-python",
   "name": "python",
   "nbconvert_exporter": "python",
   "pygments_lexer": "ipython2",
   "version": "2.7.6"
  },
  "colab": {
   "provenance": []
  }
 },
 "nbformat": 4,
 "nbformat_minor": 0
}
