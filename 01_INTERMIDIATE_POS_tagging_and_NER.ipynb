{
  "nbformat": 4,
  "nbformat_minor": 0,
  "metadata": {
    "colab": {
      "provenance": []
    },
    "kernelspec": {
      "name": "python3",
      "display_name": "Python 3"
    },
    "language_info": {
      "name": "python"
    }
  },
  "cells": [
    {
      "cell_type": "markdown",
      "source": [
        "# POS-tagging and NER: examples\n",
        "\n",
        "Here we are going to show a simple example of pos-tagging and NER tasks:\n",
        "\n",
        "*   First we will see the pos-tag using NLTK on english language only\n",
        "*   Then we will see the same task using SpaCy module both for english and italian language\n",
        "*   Finally we will see how implement the Name Entity Recognition task on SpaCy"
      ],
      "metadata": {
        "id": "5xrnHIPDURMf"
      }
    },
    {
      "cell_type": "markdown",
      "source": [
        "# **NLTK**"
      ],
      "metadata": {
        "id": "AOuo4iA9SP4h"
      }
    },
    {
      "cell_type": "markdown",
      "source": [
        "## Part of Speech"
      ],
      "metadata": {
        "id": "AlZtCieaSPhE"
      }
    },
    {
      "cell_type": "code",
      "execution_count": null,
      "metadata": {
        "id": "e3fsFw1r_Hp9"
      },
      "outputs": [],
      "source": [
        "import nltk"
      ]
    },
    {
      "cell_type": "code",
      "source": [
        "nltk.download(\"averaged_perceptron_tagger\")\n",
        "nltk.download('punkt')\n",
        "nltk.download('tagsets')"
      ],
      "metadata": {
        "colab": {
          "base_uri": "https://localhost:8080/"
        },
        "id": "kfzIMYFjNOsL",
        "outputId": "e54452fa-a4cc-40cb-b198-0376258ba0ea"
      },
      "execution_count": null,
      "outputs": [
        {
          "output_type": "stream",
          "name": "stderr",
          "text": [
            "[nltk_data] Downloading package averaged_perceptron_tagger to\n",
            "[nltk_data]     /root/nltk_data...\n",
            "[nltk_data]   Package averaged_perceptron_tagger is already up-to-\n",
            "[nltk_data]       date!\n",
            "[nltk_data] Downloading package punkt to /root/nltk_data...\n",
            "[nltk_data]   Package punkt is already up-to-date!\n",
            "[nltk_data] Downloading package tagsets to /root/nltk_data...\n",
            "[nltk_data]   Package tagsets is already up-to-date!\n"
          ]
        },
        {
          "output_type": "execute_result",
          "data": {
            "text/plain": [
              "True"
            ]
          },
          "metadata": {},
          "execution_count": 2
        }
      ]
    },
    {
      "cell_type": "code",
      "source": [
        "text = \"Jazz is a music genre that originated in the African-American communities of New Orleans, Louisiana, in the late 19th and early 20th centuries, with its roots in blues and ragtime.\""
      ],
      "metadata": {
        "id": "LrINmI6yNbj9"
      },
      "execution_count": null,
      "outputs": []
    },
    {
      "cell_type": "code",
      "source": [
        "tokens = nltk.word_tokenize(text)\n",
        "tokens"
      ],
      "metadata": {
        "colab": {
          "base_uri": "https://localhost:8080/"
        },
        "id": "PDQdSAsoNp1P",
        "outputId": "b5b12451-7953-4c0d-8bec-5d63b28789c7"
      },
      "execution_count": null,
      "outputs": [
        {
          "output_type": "execute_result",
          "data": {
            "text/plain": [
              "['Jazz',\n",
              " 'is',\n",
              " 'a',\n",
              " 'music',\n",
              " 'genre',\n",
              " 'that',\n",
              " 'originated',\n",
              " 'in',\n",
              " 'the',\n",
              " 'African-American',\n",
              " 'communities',\n",
              " 'of',\n",
              " 'New',\n",
              " 'Orleans',\n",
              " ',',\n",
              " 'Louisiana',\n",
              " ',',\n",
              " 'in',\n",
              " 'the',\n",
              " 'late',\n",
              " '19th',\n",
              " 'and',\n",
              " 'early',\n",
              " '20th',\n",
              " 'centuries',\n",
              " ',',\n",
              " 'with',\n",
              " 'its',\n",
              " 'roots',\n",
              " 'in',\n",
              " 'blues',\n",
              " 'and',\n",
              " 'ragtime',\n",
              " '.']"
            ]
          },
          "metadata": {},
          "execution_count": 4
        }
      ]
    },
    {
      "cell_type": "code",
      "source": [
        "tags = nltk.pos_tag(tokens)\n",
        "tags"
      ],
      "metadata": {
        "colab": {
          "base_uri": "https://localhost:8080/"
        },
        "id": "lWcGPHIaOGGS",
        "outputId": "97195e36-4e3e-446e-f242-d6bbc0f0bf73"
      },
      "execution_count": null,
      "outputs": [
        {
          "output_type": "execute_result",
          "data": {
            "text/plain": [
              "[('Jazz', 'NNP'),\n",
              " ('is', 'VBZ'),\n",
              " ('a', 'DT'),\n",
              " ('music', 'NN'),\n",
              " ('genre', 'NN'),\n",
              " ('that', 'WDT'),\n",
              " ('originated', 'VBD'),\n",
              " ('in', 'IN'),\n",
              " ('the', 'DT'),\n",
              " ('African-American', 'JJ'),\n",
              " ('communities', 'NNS'),\n",
              " ('of', 'IN'),\n",
              " ('New', 'NNP'),\n",
              " ('Orleans', 'NNP'),\n",
              " (',', ','),\n",
              " ('Louisiana', 'NNP'),\n",
              " (',', ','),\n",
              " ('in', 'IN'),\n",
              " ('the', 'DT'),\n",
              " ('late', 'JJ'),\n",
              " ('19th', 'CD'),\n",
              " ('and', 'CC'),\n",
              " ('early', 'RB'),\n",
              " ('20th', 'JJ'),\n",
              " ('centuries', 'NNS'),\n",
              " (',', ','),\n",
              " ('with', 'IN'),\n",
              " ('its', 'PRP$'),\n",
              " ('roots', 'NNS'),\n",
              " ('in', 'IN'),\n",
              " ('blues', 'NNS'),\n",
              " ('and', 'CC'),\n",
              " ('ragtime', 'NN'),\n",
              " ('.', '.')]"
            ]
          },
          "metadata": {},
          "execution_count": 5
        }
      ]
    },
    {
      "cell_type": "code",
      "source": [
        "nltk.help.upenn_tagset()"
      ],
      "metadata": {
        "colab": {
          "base_uri": "https://localhost:8080/"
        },
        "id": "-xvhJtcNN0mw",
        "outputId": "b334bbdc-84b7-4123-8573-ed5f4f8516bf"
      },
      "execution_count": null,
      "outputs": [
        {
          "output_type": "stream",
          "name": "stdout",
          "text": [
            "$: dollar\n",
            "    $ -$ --$ A$ C$ HK$ M$ NZ$ S$ U.S.$ US$\n",
            "'': closing quotation mark\n",
            "    ' ''\n",
            "(: opening parenthesis\n",
            "    ( [ {\n",
            "): closing parenthesis\n",
            "    ) ] }\n",
            ",: comma\n",
            "    ,\n",
            "--: dash\n",
            "    --\n",
            ".: sentence terminator\n",
            "    . ! ?\n",
            ":: colon or ellipsis\n",
            "    : ; ...\n",
            "CC: conjunction, coordinating\n",
            "    & 'n and both but either et for less minus neither nor or plus so\n",
            "    therefore times v. versus vs. whether yet\n",
            "CD: numeral, cardinal\n",
            "    mid-1890 nine-thirty forty-two one-tenth ten million 0.5 one forty-\n",
            "    seven 1987 twenty '79 zero two 78-degrees eighty-four IX '60s .025\n",
            "    fifteen 271,124 dozen quintillion DM2,000 ...\n",
            "DT: determiner\n",
            "    all an another any both del each either every half la many much nary\n",
            "    neither no some such that the them these this those\n",
            "EX: existential there\n",
            "    there\n",
            "FW: foreign word\n",
            "    gemeinschaft hund ich jeux habeas Haementeria Herr K'ang-si vous\n",
            "    lutihaw alai je jour objets salutaris fille quibusdam pas trop Monte\n",
            "    terram fiche oui corporis ...\n",
            "IN: preposition or conjunction, subordinating\n",
            "    astride among uppon whether out inside pro despite on by throughout\n",
            "    below within for towards near behind atop around if like until below\n",
            "    next into if beside ...\n",
            "JJ: adjective or numeral, ordinal\n",
            "    third ill-mannered pre-war regrettable oiled calamitous first separable\n",
            "    ectoplasmic battery-powered participatory fourth still-to-be-named\n",
            "    multilingual multi-disciplinary ...\n",
            "JJR: adjective, comparative\n",
            "    bleaker braver breezier briefer brighter brisker broader bumper busier\n",
            "    calmer cheaper choosier cleaner clearer closer colder commoner costlier\n",
            "    cozier creamier crunchier cuter ...\n",
            "JJS: adjective, superlative\n",
            "    calmest cheapest choicest classiest cleanest clearest closest commonest\n",
            "    corniest costliest crassest creepiest crudest cutest darkest deadliest\n",
            "    dearest deepest densest dinkiest ...\n",
            "LS: list item marker\n",
            "    A A. B B. C C. D E F First G H I J K One SP-44001 SP-44002 SP-44005\n",
            "    SP-44007 Second Third Three Two * a b c d first five four one six three\n",
            "    two\n",
            "MD: modal auxiliary\n",
            "    can cannot could couldn't dare may might must need ought shall should\n",
            "    shouldn't will would\n",
            "NN: noun, common, singular or mass\n",
            "    common-carrier cabbage knuckle-duster Casino afghan shed thermostat\n",
            "    investment slide humour falloff slick wind hyena override subhumanity\n",
            "    machinist ...\n",
            "NNP: noun, proper, singular\n",
            "    Motown Venneboerger Czestochwa Ranzer Conchita Trumplane Christos\n",
            "    Oceanside Escobar Kreisler Sawyer Cougar Yvette Ervin ODI Darryl CTCA\n",
            "    Shannon A.K.C. Meltex Liverpool ...\n",
            "NNPS: noun, proper, plural\n",
            "    Americans Americas Amharas Amityvilles Amusements Anarcho-Syndicalists\n",
            "    Andalusians Andes Andruses Angels Animals Anthony Antilles Antiques\n",
            "    Apache Apaches Apocrypha ...\n",
            "NNS: noun, common, plural\n",
            "    undergraduates scotches bric-a-brac products bodyguards facets coasts\n",
            "    divestitures storehouses designs clubs fragrances averages\n",
            "    subjectivists apprehensions muses factory-jobs ...\n",
            "PDT: pre-determiner\n",
            "    all both half many quite such sure this\n",
            "POS: genitive marker\n",
            "    ' 's\n",
            "PRP: pronoun, personal\n",
            "    hers herself him himself hisself it itself me myself one oneself ours\n",
            "    ourselves ownself self she thee theirs them themselves they thou thy us\n",
            "PRP$: pronoun, possessive\n",
            "    her his mine my our ours their thy your\n",
            "RB: adverb\n",
            "    occasionally unabatingly maddeningly adventurously professedly\n",
            "    stirringly prominently technologically magisterially predominately\n",
            "    swiftly fiscally pitilessly ...\n",
            "RBR: adverb, comparative\n",
            "    further gloomier grander graver greater grimmer harder harsher\n",
            "    healthier heavier higher however larger later leaner lengthier less-\n",
            "    perfectly lesser lonelier longer louder lower more ...\n",
            "RBS: adverb, superlative\n",
            "    best biggest bluntest earliest farthest first furthest hardest\n",
            "    heartiest highest largest least less most nearest second tightest worst\n",
            "RP: particle\n",
            "    aboard about across along apart around aside at away back before behind\n",
            "    by crop down ever fast for forth from go high i.e. in into just later\n",
            "    low more off on open out over per pie raising start teeth that through\n",
            "    under unto up up-pp upon whole with you\n",
            "SYM: symbol\n",
            "    % & ' '' ''. ) ). * + ,. < = > @ A[fj] U.S U.S.S.R * ** ***\n",
            "TO: \"to\" as preposition or infinitive marker\n",
            "    to\n",
            "UH: interjection\n",
            "    Goodbye Goody Gosh Wow Jeepers Jee-sus Hubba Hey Kee-reist Oops amen\n",
            "    huh howdy uh dammit whammo shucks heck anyways whodunnit honey golly\n",
            "    man baby diddle hush sonuvabitch ...\n",
            "VB: verb, base form\n",
            "    ask assemble assess assign assume atone attention avoid bake balkanize\n",
            "    bank begin behold believe bend benefit bevel beware bless boil bomb\n",
            "    boost brace break bring broil brush build ...\n",
            "VBD: verb, past tense\n",
            "    dipped pleaded swiped regummed soaked tidied convened halted registered\n",
            "    cushioned exacted snubbed strode aimed adopted belied figgered\n",
            "    speculated wore appreciated contemplated ...\n",
            "VBG: verb, present participle or gerund\n",
            "    telegraphing stirring focusing angering judging stalling lactating\n",
            "    hankerin' alleging veering capping approaching traveling besieging\n",
            "    encrypting interrupting erasing wincing ...\n",
            "VBN: verb, past participle\n",
            "    multihulled dilapidated aerosolized chaired languished panelized used\n",
            "    experimented flourished imitated reunifed factored condensed sheared\n",
            "    unsettled primed dubbed desired ...\n",
            "VBP: verb, present tense, not 3rd person singular\n",
            "    predominate wrap resort sue twist spill cure lengthen brush terminate\n",
            "    appear tend stray glisten obtain comprise detest tease attract\n",
            "    emphasize mold postpone sever return wag ...\n",
            "VBZ: verb, present tense, 3rd person singular\n",
            "    bases reconstructs marks mixes displeases seals carps weaves snatches\n",
            "    slumps stretches authorizes smolders pictures emerges stockpiles\n",
            "    seduces fizzes uses bolsters slaps speaks pleads ...\n",
            "WDT: WH-determiner\n",
            "    that what whatever which whichever\n",
            "WP: WH-pronoun\n",
            "    that what whatever whatsoever which who whom whosoever\n",
            "WP$: WH-pronoun, possessive\n",
            "    whose\n",
            "WRB: Wh-adverb\n",
            "    how however whence whenever where whereby whereever wherein whereof why\n",
            "``: opening quotation mark\n",
            "    ` ``\n"
          ]
        }
      ]
    },
    {
      "cell_type": "code",
      "source": [
        "token_tags = [token+\"(\"+ tag +\")\" for token, tag in tags]\n",
        "token_tags = \", \".join(token_tags)\n",
        "token_tags"
      ],
      "metadata": {
        "colab": {
          "base_uri": "https://localhost:8080/",
          "height": 87
        },
        "id": "x33_NqabPYZM",
        "outputId": "bfd1aadf-3c1f-43aa-9dd7-e409ee1be69c"
      },
      "execution_count": null,
      "outputs": [
        {
          "output_type": "execute_result",
          "data": {
            "text/plain": [
              "'Jazz(NNP), is(VBZ), a(DT), music(NN), genre(NN), that(WDT), originated(VBD), in(IN), the(DT), African-American(JJ), communities(NNS), of(IN), New(NNP), Orleans(NNP), ,(,), Louisiana(NNP), ,(,), in(IN), the(DT), late(JJ), 19th(CD), and(CC), early(RB), 20th(JJ), centuries(NNS), ,(,), with(IN), its(PRP$), roots(NNS), in(IN), blues(NNS), and(CC), ragtime(NN), .(.)'"
            ],
            "application/vnd.google.colaboratory.intrinsic+json": {
              "type": "string"
            }
          },
          "metadata": {},
          "execution_count": 7
        }
      ]
    },
    {
      "cell_type": "markdown",
      "source": [
        "# **spaCy**"
      ],
      "metadata": {
        "id": "JQ_9Jz8ZSZo4"
      }
    },
    {
      "cell_type": "markdown",
      "source": [
        "## **Inglese**"
      ],
      "metadata": {
        "id": "2J_09W5ROVt6"
      }
    },
    {
      "cell_type": "markdown",
      "source": [
        "### **Part of Speech**"
      ],
      "metadata": {
        "id": "PPz8n6oAVwZP"
      }
    },
    {
      "cell_type": "code",
      "source": [
        "import spacy\n",
        "from spacy.tokens import Span\n",
        "from spacy import displacy"
      ],
      "metadata": {
        "id": "4gwW58chRyV4"
      },
      "execution_count": null,
      "outputs": []
    },
    {
      "cell_type": "code",
      "source": [
        "nlp_eng = spacy.load(\"en_core_web_sm\")"
      ],
      "metadata": {
        "id": "xLcLcgUrSmzL"
      },
      "execution_count": null,
      "outputs": []
    },
    {
      "cell_type": "code",
      "source": [
        "text = \"Jazz is a music genre that originated in the African-American communities of New Orleans, Louisiana, in the late 19th and early 20th centuries, with its roots in blues and ragtime.\""
      ],
      "metadata": {
        "id": "p_EET8HsSe4J"
      },
      "execution_count": null,
      "outputs": []
    },
    {
      "cell_type": "code",
      "source": [
        "doc = nlp_eng(text)"
      ],
      "metadata": {
        "id": "DG8IE8GWSkEZ"
      },
      "execution_count": null,
      "outputs": []
    },
    {
      "cell_type": "code",
      "source": [
        "doc[0].tag_, doc[0].pos_"
      ],
      "metadata": {
        "colab": {
          "base_uri": "https://localhost:8080/"
        },
        "id": "xTxluSIkSxE1",
        "outputId": "443d15b9-ca66-4421-d338-29c566c5c06d"
      },
      "execution_count": null,
      "outputs": [
        {
          "output_type": "execute_result",
          "data": {
            "text/plain": [
              "('NN', 'NOUN')"
            ]
          },
          "metadata": {},
          "execution_count": 12
        }
      ]
    },
    {
      "cell_type": "code",
      "source": [
        "spacy.explain(doc[0].tag_)"
      ],
      "metadata": {
        "colab": {
          "base_uri": "https://localhost:8080/",
          "height": 35
        },
        "id": "ewuhDCQXS-Bz",
        "outputId": "9108cf86-4e39-451d-8bcd-7b95be21adad"
      },
      "execution_count": null,
      "outputs": [
        {
          "output_type": "execute_result",
          "data": {
            "text/plain": [
              "'noun, singular or mass'"
            ],
            "application/vnd.google.colaboratory.intrinsic+json": {
              "type": "string"
            }
          },
          "metadata": {},
          "execution_count": 13
        }
      ]
    },
    {
      "cell_type": "code",
      "source": [
        "print(\"TOKEN\\t\\tTAG\\t\\tPOS\\t\\t\\tDESCRIPTION\\n\")\n",
        "for token in doc:\n",
        "  print(token.text, \"\\t\\t\", token.tag_, \"\\t\\t\", token.pos_, \"\\t\\t\\t\", spacy.explain(token.tag_))"
      ],
      "metadata": {
        "colab": {
          "base_uri": "https://localhost:8080/"
        },
        "id": "8MxaWJBUTQwD",
        "outputId": "81bba7a2-a912-4507-d9d9-4e63fdb3c0b4"
      },
      "execution_count": null,
      "outputs": [
        {
          "output_type": "stream",
          "name": "stdout",
          "text": [
            "TOKEN\t\tTAG\t\tPOS\t\t\tDESCRIPTION\n",
            "\n",
            "Jazz \t\t NN \t\t NOUN \t\t\t noun, singular or mass\n",
            "is \t\t VBZ \t\t AUX \t\t\t verb, 3rd person singular present\n",
            "a \t\t DT \t\t DET \t\t\t determiner\n",
            "music \t\t NN \t\t NOUN \t\t\t noun, singular or mass\n",
            "genre \t\t NN \t\t NOUN \t\t\t noun, singular or mass\n",
            "that \t\t WDT \t\t PRON \t\t\t wh-determiner\n",
            "originated \t\t VBD \t\t VERB \t\t\t verb, past tense\n",
            "in \t\t IN \t\t ADP \t\t\t conjunction, subordinating or preposition\n",
            "the \t\t DT \t\t DET \t\t\t determiner\n",
            "African \t\t JJ \t\t ADJ \t\t\t adjective (English), other noun-modifier (Chinese)\n",
            "- \t\t HYPH \t\t PUNCT \t\t\t punctuation mark, hyphen\n",
            "American \t\t JJ \t\t ADJ \t\t\t adjective (English), other noun-modifier (Chinese)\n",
            "communities \t\t NNS \t\t NOUN \t\t\t noun, plural\n",
            "of \t\t IN \t\t ADP \t\t\t conjunction, subordinating or preposition\n",
            "New \t\t NNP \t\t PROPN \t\t\t noun, proper singular\n",
            "Orleans \t\t NNP \t\t PROPN \t\t\t noun, proper singular\n",
            ", \t\t , \t\t PUNCT \t\t\t punctuation mark, comma\n",
            "Louisiana \t\t NNP \t\t PROPN \t\t\t noun, proper singular\n",
            ", \t\t , \t\t PUNCT \t\t\t punctuation mark, comma\n",
            "in \t\t IN \t\t ADP \t\t\t conjunction, subordinating or preposition\n",
            "the \t\t DT \t\t DET \t\t\t determiner\n",
            "late \t\t JJ \t\t ADJ \t\t\t adjective (English), other noun-modifier (Chinese)\n",
            "19th \t\t JJ \t\t ADJ \t\t\t adjective (English), other noun-modifier (Chinese)\n",
            "and \t\t CC \t\t CCONJ \t\t\t conjunction, coordinating\n",
            "early \t\t JJ \t\t ADJ \t\t\t adjective (English), other noun-modifier (Chinese)\n",
            "20th \t\t JJ \t\t ADJ \t\t\t adjective (English), other noun-modifier (Chinese)\n",
            "centuries \t\t NNS \t\t NOUN \t\t\t noun, plural\n",
            ", \t\t , \t\t PUNCT \t\t\t punctuation mark, comma\n",
            "with \t\t IN \t\t ADP \t\t\t conjunction, subordinating or preposition\n",
            "its \t\t PRP$ \t\t PRON \t\t\t pronoun, possessive\n",
            "roots \t\t NNS \t\t NOUN \t\t\t noun, plural\n",
            "in \t\t IN \t\t ADP \t\t\t conjunction, subordinating or preposition\n",
            "blues \t\t NNS \t\t NOUN \t\t\t noun, plural\n",
            "and \t\t CC \t\t CCONJ \t\t\t conjunction, coordinating\n",
            "ragtime \t\t NN \t\t NOUN \t\t\t noun, singular or mass\n",
            ". \t\t . \t\t PUNCT \t\t\t punctuation mark, sentence closer\n"
          ]
        }
      ]
    },
    {
      "cell_type": "markdown",
      "source": [
        "## **Name Entity Recognition**"
      ],
      "metadata": {
        "id": "JjTUEeyoOK_5"
      }
    },
    {
      "cell_type": "code",
      "source": [
        "doc.ents"
      ],
      "metadata": {
        "colab": {
          "base_uri": "https://localhost:8080/"
        },
        "id": "9639ktNGPYyS",
        "outputId": "f5b5541d-317a-47fb-de18-1c5be47e4dd4"
      },
      "execution_count": null,
      "outputs": [
        {
          "output_type": "execute_result",
          "data": {
            "text/plain": [
              "(African-American, New Orleans, Louisiana, the late 19th, early 20th centuries)"
            ]
          },
          "metadata": {},
          "execution_count": 15
        }
      ]
    },
    {
      "cell_type": "code",
      "source": [
        "doc.ents[0].label_, spacy.explain(doc.ents[0].label_)"
      ],
      "metadata": {
        "colab": {
          "base_uri": "https://localhost:8080/"
        },
        "id": "o5DM-rlCOY2Y",
        "outputId": "896d54ae-c364-40a4-a4b0-196c3768df74"
      },
      "execution_count": null,
      "outputs": [
        {
          "output_type": "execute_result",
          "data": {
            "text/plain": [
              "('NORP', 'Nationalities or religious or political groups')"
            ]
          },
          "metadata": {},
          "execution_count": 16
        }
      ]
    },
    {
      "cell_type": "code",
      "source": [
        "print(\"ENTITIES\\t\\tLABEL\\t\\t\\t\\tDESCRIPTION\\n\")\n",
        "for ent in doc.ents:\n",
        "  print(ent.text, \"\\t\\t\", ent.label_, \"\\t\\t\\t\", spacy.explain(ent.label_))"
      ],
      "metadata": {
        "colab": {
          "base_uri": "https://localhost:8080/"
        },
        "id": "j4GK65huRloD",
        "outputId": "9f28a15c-d11d-4f0d-ea3e-b1cb58d3bff3"
      },
      "execution_count": null,
      "outputs": [
        {
          "output_type": "stream",
          "name": "stdout",
          "text": [
            "ENTITIES\t\tLABEL\t\t\t\tDESCRIPTION\n",
            "\n",
            "African-American \t\t NORP \t\t\t Nationalities or religious or political groups\n",
            "New Orleans \t\t GPE \t\t\t Countries, cities, states\n",
            "Louisiana \t\t GPE \t\t\t Countries, cities, states\n",
            "the late 19th \t\t DATE \t\t\t Absolute or relative dates or periods\n",
            "early 20th centuries \t\t DATE \t\t\t Absolute or relative dates or periods\n"
          ]
        }
      ]
    },
    {
      "cell_type": "code",
      "source": [
        "text_ents = text\n",
        "for i in range(len(doc.ents)):\n",
        "  text_ents = text_ents.replace(doc.ents[i].text, doc.ents[i].text+\"(\"+ doc.ents[i].label_ +\")\")\n",
        "text_ents"
      ],
      "metadata": {
        "colab": {
          "base_uri": "https://localhost:8080/",
          "height": 70
        },
        "id": "Wdo3H0OkTlKT",
        "outputId": "0561e66e-98d6-4133-e493-c7d4f436c795"
      },
      "execution_count": null,
      "outputs": [
        {
          "output_type": "execute_result",
          "data": {
            "text/plain": [
              "'Jazz is a music genre that originated in the African-American(NORP) communities of New Orleans(GPE), Louisiana(GPE), in the late 19th(DATE) and early 20th centuries(DATE), with its roots in blues and ragtime.'"
            ],
            "application/vnd.google.colaboratory.intrinsic+json": {
              "type": "string"
            }
          },
          "metadata": {},
          "execution_count": 18
        }
      ]
    },
    {
      "cell_type": "markdown",
      "source": [
        "## **Italiano**"
      ],
      "metadata": {
        "id": "8GZBCl4MV6x8"
      }
    },
    {
      "cell_type": "markdown",
      "source": [
        "### **Part of Speech**"
      ],
      "metadata": {
        "id": "oXtvrgavOaby"
      }
    },
    {
      "cell_type": "code",
      "source": [
        "!python -m spacy download it_core_news_sm"
      ],
      "metadata": {
        "colab": {
          "base_uri": "https://localhost:8080/"
        },
        "id": "IhyofbFyV4G_",
        "outputId": "97a758c3-0298-4245-e6af-bb35f4344d16"
      },
      "execution_count": null,
      "outputs": [
        {
          "output_type": "stream",
          "name": "stdout",
          "text": [
            "Collecting it-core-news-sm==3.7.0\n",
            "  Downloading https://github.com/explosion/spacy-models/releases/download/it_core_news_sm-3.7.0/it_core_news_sm-3.7.0-py3-none-any.whl (13.0 MB)\n",
            "\u001b[2K     \u001b[90m━━━━━━━━━━━━━━━━━━━━━━━━━━━━━━━━━━━━━━━━\u001b[0m \u001b[32m13.0/13.0 MB\u001b[0m \u001b[31m47.3 MB/s\u001b[0m eta \u001b[36m0:00:00\u001b[0m\n",
            "\u001b[?25hRequirement already satisfied: spacy<3.8.0,>=3.7.0 in /usr/local/lib/python3.10/dist-packages (from it-core-news-sm==3.7.0) (3.7.4)\n",
            "Requirement already satisfied: spacy-legacy<3.1.0,>=3.0.11 in /usr/local/lib/python3.10/dist-packages (from spacy<3.8.0,>=3.7.0->it-core-news-sm==3.7.0) (3.0.12)\n",
            "Requirement already satisfied: spacy-loggers<2.0.0,>=1.0.0 in /usr/local/lib/python3.10/dist-packages (from spacy<3.8.0,>=3.7.0->it-core-news-sm==3.7.0) (1.0.5)\n",
            "Requirement already satisfied: murmurhash<1.1.0,>=0.28.0 in /usr/local/lib/python3.10/dist-packages (from spacy<3.8.0,>=3.7.0->it-core-news-sm==3.7.0) (1.0.10)\n",
            "Requirement already satisfied: cymem<2.1.0,>=2.0.2 in /usr/local/lib/python3.10/dist-packages (from spacy<3.8.0,>=3.7.0->it-core-news-sm==3.7.0) (2.0.8)\n",
            "Requirement already satisfied: preshed<3.1.0,>=3.0.2 in /usr/local/lib/python3.10/dist-packages (from spacy<3.8.0,>=3.7.0->it-core-news-sm==3.7.0) (3.0.9)\n",
            "Requirement already satisfied: thinc<8.3.0,>=8.2.2 in /usr/local/lib/python3.10/dist-packages (from spacy<3.8.0,>=3.7.0->it-core-news-sm==3.7.0) (8.2.3)\n",
            "Requirement already satisfied: wasabi<1.2.0,>=0.9.1 in /usr/local/lib/python3.10/dist-packages (from spacy<3.8.0,>=3.7.0->it-core-news-sm==3.7.0) (1.1.2)\n",
            "Requirement already satisfied: srsly<3.0.0,>=2.4.3 in /usr/local/lib/python3.10/dist-packages (from spacy<3.8.0,>=3.7.0->it-core-news-sm==3.7.0) (2.4.8)\n",
            "Requirement already satisfied: catalogue<2.1.0,>=2.0.6 in /usr/local/lib/python3.10/dist-packages (from spacy<3.8.0,>=3.7.0->it-core-news-sm==3.7.0) (2.0.10)\n",
            "Requirement already satisfied: weasel<0.4.0,>=0.1.0 in /usr/local/lib/python3.10/dist-packages (from spacy<3.8.0,>=3.7.0->it-core-news-sm==3.7.0) (0.3.4)\n",
            "Requirement already satisfied: typer<0.10.0,>=0.3.0 in /usr/local/lib/python3.10/dist-packages (from spacy<3.8.0,>=3.7.0->it-core-news-sm==3.7.0) (0.9.4)\n",
            "Requirement already satisfied: smart-open<7.0.0,>=5.2.1 in /usr/local/lib/python3.10/dist-packages (from spacy<3.8.0,>=3.7.0->it-core-news-sm==3.7.0) (6.4.0)\n",
            "Requirement already satisfied: tqdm<5.0.0,>=4.38.0 in /usr/local/lib/python3.10/dist-packages (from spacy<3.8.0,>=3.7.0->it-core-news-sm==3.7.0) (4.66.2)\n",
            "Requirement already satisfied: requests<3.0.0,>=2.13.0 in /usr/local/lib/python3.10/dist-packages (from spacy<3.8.0,>=3.7.0->it-core-news-sm==3.7.0) (2.31.0)\n",
            "Requirement already satisfied: pydantic!=1.8,!=1.8.1,<3.0.0,>=1.7.4 in /usr/local/lib/python3.10/dist-packages (from spacy<3.8.0,>=3.7.0->it-core-news-sm==3.7.0) (2.6.4)\n",
            "Requirement already satisfied: jinja2 in /usr/local/lib/python3.10/dist-packages (from spacy<3.8.0,>=3.7.0->it-core-news-sm==3.7.0) (3.1.3)\n",
            "Requirement already satisfied: setuptools in /usr/local/lib/python3.10/dist-packages (from spacy<3.8.0,>=3.7.0->it-core-news-sm==3.7.0) (67.7.2)\n",
            "Requirement already satisfied: packaging>=20.0 in /usr/local/lib/python3.10/dist-packages (from spacy<3.8.0,>=3.7.0->it-core-news-sm==3.7.0) (24.0)\n",
            "Requirement already satisfied: langcodes<4.0.0,>=3.2.0 in /usr/local/lib/python3.10/dist-packages (from spacy<3.8.0,>=3.7.0->it-core-news-sm==3.7.0) (3.3.0)\n",
            "Requirement already satisfied: numpy>=1.19.0 in /usr/local/lib/python3.10/dist-packages (from spacy<3.8.0,>=3.7.0->it-core-news-sm==3.7.0) (1.25.2)\n",
            "Requirement already satisfied: annotated-types>=0.4.0 in /usr/local/lib/python3.10/dist-packages (from pydantic!=1.8,!=1.8.1,<3.0.0,>=1.7.4->spacy<3.8.0,>=3.7.0->it-core-news-sm==3.7.0) (0.6.0)\n",
            "Requirement already satisfied: pydantic-core==2.16.3 in /usr/local/lib/python3.10/dist-packages (from pydantic!=1.8,!=1.8.1,<3.0.0,>=1.7.4->spacy<3.8.0,>=3.7.0->it-core-news-sm==3.7.0) (2.16.3)\n",
            "Requirement already satisfied: typing-extensions>=4.6.1 in /usr/local/lib/python3.10/dist-packages (from pydantic!=1.8,!=1.8.1,<3.0.0,>=1.7.4->spacy<3.8.0,>=3.7.0->it-core-news-sm==3.7.0) (4.10.0)\n",
            "Requirement already satisfied: charset-normalizer<4,>=2 in /usr/local/lib/python3.10/dist-packages (from requests<3.0.0,>=2.13.0->spacy<3.8.0,>=3.7.0->it-core-news-sm==3.7.0) (3.3.2)\n",
            "Requirement already satisfied: idna<4,>=2.5 in /usr/local/lib/python3.10/dist-packages (from requests<3.0.0,>=2.13.0->spacy<3.8.0,>=3.7.0->it-core-news-sm==3.7.0) (3.6)\n",
            "Requirement already satisfied: urllib3<3,>=1.21.1 in /usr/local/lib/python3.10/dist-packages (from requests<3.0.0,>=2.13.0->spacy<3.8.0,>=3.7.0->it-core-news-sm==3.7.0) (2.0.7)\n",
            "Requirement already satisfied: certifi>=2017.4.17 in /usr/local/lib/python3.10/dist-packages (from requests<3.0.0,>=2.13.0->spacy<3.8.0,>=3.7.0->it-core-news-sm==3.7.0) (2024.2.2)\n",
            "Requirement already satisfied: blis<0.8.0,>=0.7.8 in /usr/local/lib/python3.10/dist-packages (from thinc<8.3.0,>=8.2.2->spacy<3.8.0,>=3.7.0->it-core-news-sm==3.7.0) (0.7.11)\n",
            "Requirement already satisfied: confection<1.0.0,>=0.0.1 in /usr/local/lib/python3.10/dist-packages (from thinc<8.3.0,>=8.2.2->spacy<3.8.0,>=3.7.0->it-core-news-sm==3.7.0) (0.1.4)\n",
            "Requirement already satisfied: click<9.0.0,>=7.1.1 in /usr/local/lib/python3.10/dist-packages (from typer<0.10.0,>=0.3.0->spacy<3.8.0,>=3.7.0->it-core-news-sm==3.7.0) (8.1.7)\n",
            "Requirement already satisfied: cloudpathlib<0.17.0,>=0.7.0 in /usr/local/lib/python3.10/dist-packages (from weasel<0.4.0,>=0.1.0->spacy<3.8.0,>=3.7.0->it-core-news-sm==3.7.0) (0.16.0)\n",
            "Requirement already satisfied: MarkupSafe>=2.0 in /usr/local/lib/python3.10/dist-packages (from jinja2->spacy<3.8.0,>=3.7.0->it-core-news-sm==3.7.0) (2.1.5)\n",
            "\u001b[38;5;2m✔ Download and installation successful\u001b[0m\n",
            "You can now load the package via spacy.load('it_core_news_sm')\n",
            "\u001b[38;5;3m⚠ Restart to reload dependencies\u001b[0m\n",
            "If you are in a Jupyter or Colab notebook, you may need to restart Python in\n",
            "order to load all the package's dependencies. You can do this by selecting the\n",
            "'Restart kernel' or 'Restart runtime' option.\n"
          ]
        }
      ]
    },
    {
      "cell_type": "code",
      "source": [
        "nlp = spacy.load(\"it_core_news_sm\")"
      ],
      "metadata": {
        "id": "ehDKRNUcTfgT"
      },
      "execution_count": null,
      "outputs": []
    },
    {
      "cell_type": "code",
      "source": [
        "text = \"Alessandro Giuseppe Antonio Pertini, detto Sandro (Stella, 25 settembre 1896 – Roma, 24 febbraio 1990), è stato un politico, giornalista e partigiano italiano. Fu il settimo presidente della Repubblica Italiana dal 1978 al 1985, primo socialista e unico esponente del PSI a ricoprire la carica.\""
      ],
      "metadata": {
        "id": "LtO2q6ZqVRV-"
      },
      "execution_count": null,
      "outputs": []
    },
    {
      "cell_type": "code",
      "source": [
        "doc = nlp(text)"
      ],
      "metadata": {
        "id": "mdQViL2TWRST"
      },
      "execution_count": null,
      "outputs": []
    },
    {
      "cell_type": "code",
      "source": [
        "print(\"TOKEN\\t\\tTAG\\t\\tPOS\\t\\t\\tDESCRIPTION\\n\")\n",
        "for token in doc:\n",
        "  print(token.text, \"\\t\\t\", token.tag_, \"\\t\\t\", token.pos_, \"\\t\\t\\t\", spacy.explain(token.pos_))"
      ],
      "metadata": {
        "colab": {
          "base_uri": "https://localhost:8080/"
        },
        "id": "LLxE9gUWWZiz",
        "outputId": "08b4ad7b-3f27-4faa-819b-d3ed001b9de6"
      },
      "execution_count": null,
      "outputs": [
        {
          "output_type": "stream",
          "name": "stdout",
          "text": [
            "TOKEN\t\tTAG\t\tPOS\t\t\tDESCRIPTION\n",
            "\n",
            "Alessandro \t\t SP \t\t PROPN \t\t\t proper noun\n",
            "Giuseppe \t\t SP \t\t PROPN \t\t\t proper noun\n",
            "Antonio \t\t SP \t\t PROPN \t\t\t proper noun\n",
            "Pertini \t\t SP \t\t PROPN \t\t\t proper noun\n",
            ", \t\t FF \t\t PUNCT \t\t\t punctuation\n",
            "detto \t\t V \t\t VERB \t\t\t verb\n",
            "Sandro \t\t SP \t\t PROPN \t\t\t proper noun\n",
            "( \t\t FB \t\t PUNCT \t\t\t punctuation\n",
            "Stella \t\t SP \t\t PROPN \t\t\t proper noun\n",
            ", \t\t FF \t\t PUNCT \t\t\t punctuation\n",
            "25 \t\t N \t\t NUM \t\t\t numeral\n",
            "settembre \t\t S \t\t NOUN \t\t\t noun\n",
            "1896 \t\t N \t\t NUM \t\t\t numeral\n",
            "– \t\t FF \t\t PUNCT \t\t\t punctuation\n",
            "Roma \t\t SP \t\t PROPN \t\t\t proper noun\n",
            ", \t\t FF \t\t PUNCT \t\t\t punctuation\n",
            "24 \t\t N \t\t NUM \t\t\t numeral\n",
            "febbraio \t\t S \t\t NOUN \t\t\t noun\n",
            "1990 \t\t N \t\t NUM \t\t\t numeral\n",
            ") \t\t FB \t\t PUNCT \t\t\t punctuation\n",
            ", \t\t FF \t\t PUNCT \t\t\t punctuation\n",
            "è \t\t VA \t\t AUX \t\t\t auxiliary\n",
            "stato \t\t V \t\t AUX \t\t\t auxiliary\n",
            "un \t\t RI \t\t DET \t\t\t determiner\n",
            "politico \t\t S \t\t NOUN \t\t\t noun\n",
            ", \t\t FF \t\t PUNCT \t\t\t punctuation\n",
            "giornalista \t\t S \t\t NOUN \t\t\t noun\n",
            "e \t\t CC \t\t CCONJ \t\t\t coordinating conjunction\n",
            "partigiano \t\t V \t\t VERB \t\t\t verb\n",
            "italiano \t\t A \t\t ADJ \t\t\t adjective\n",
            ". \t\t FS \t\t PUNCT \t\t\t punctuation\n",
            "Fu \t\t V \t\t AUX \t\t\t auxiliary\n",
            "il \t\t RD \t\t DET \t\t\t determiner\n",
            "settimo \t\t NO \t\t ADJ \t\t\t adjective\n",
            "presidente \t\t S \t\t NOUN \t\t\t noun\n",
            "della \t\t E_RD \t\t ADP \t\t\t adposition\n",
            "Repubblica \t\t SP \t\t NOUN \t\t\t noun\n",
            "Italiana \t\t A \t\t ADJ \t\t\t adjective\n",
            "dal \t\t E_RD \t\t ADP \t\t\t adposition\n",
            "1978 \t\t N \t\t NUM \t\t\t numeral\n",
            "al \t\t E_RD \t\t ADP \t\t\t adposition\n",
            "1985 \t\t N \t\t NUM \t\t\t numeral\n",
            ", \t\t FF \t\t PUNCT \t\t\t punctuation\n",
            "primo \t\t NO \t\t ADJ \t\t\t adjective\n",
            "socialista \t\t S \t\t NOUN \t\t\t noun\n",
            "e \t\t CC \t\t CCONJ \t\t\t coordinating conjunction\n",
            "unico \t\t A \t\t ADJ \t\t\t adjective\n",
            "esponente \t\t S \t\t NOUN \t\t\t noun\n",
            "del \t\t E_RD \t\t ADP \t\t\t adposition\n",
            "PSI \t\t SP \t\t PROPN \t\t\t proper noun\n",
            "a \t\t E \t\t ADP \t\t\t adposition\n",
            "ricoprire \t\t V \t\t VERB \t\t\t verb\n",
            "la \t\t RD \t\t DET \t\t\t determiner\n",
            "carica \t\t S \t\t NOUN \t\t\t noun\n",
            ". \t\t FS \t\t PUNCT \t\t\t punctuation\n"
          ]
        }
      ]
    },
    {
      "cell_type": "markdown",
      "source": [
        "## **Name Entity Recognition**"
      ],
      "metadata": {
        "id": "QATEqDQbMC-U"
      }
    },
    {
      "cell_type": "code",
      "source": [
        "doc.ents"
      ],
      "metadata": {
        "colab": {
          "base_uri": "https://localhost:8080/"
        },
        "id": "oo2BpUeqUcVm",
        "outputId": "ee238d5a-481e-4536-ef7c-b1859425db0d"
      },
      "execution_count": null,
      "outputs": [
        {
          "output_type": "execute_result",
          "data": {
            "text/plain": [
              "(Alessandro Giuseppe Antonio Pertini,\n",
              " Sandro,\n",
              " Stella,\n",
              " Roma,\n",
              " Repubblica Italiana,\n",
              " PSI)"
            ]
          },
          "metadata": {},
          "execution_count": 24
        }
      ]
    },
    {
      "cell_type": "code",
      "source": [
        "print(\"ENTITIES\\t\\tLABEL\\t\\t\\t\\tDESCRIPTION\\n\")\n",
        "for ent in doc.ents:\n",
        "  print(ent.text, \"\\t\\t\", ent.label_, \"\\t\\t\\t\", spacy.explain(ent.label_))"
      ],
      "metadata": {
        "colab": {
          "base_uri": "https://localhost:8080/"
        },
        "id": "P_pnAKgqUePw",
        "outputId": "7d2a282d-9f30-4c81-b803-eb3d281b4b13"
      },
      "execution_count": null,
      "outputs": [
        {
          "output_type": "stream",
          "name": "stdout",
          "text": [
            "ENTITIES\t\tLABEL\t\t\t\tDESCRIPTION\n",
            "\n",
            "Alessandro Giuseppe Antonio Pertini \t\t PER \t\t\t Named person or family.\n",
            "Sandro \t\t LOC \t\t\t Non-GPE locations, mountain ranges, bodies of water\n",
            "Stella \t\t LOC \t\t\t Non-GPE locations, mountain ranges, bodies of water\n",
            "Roma \t\t LOC \t\t\t Non-GPE locations, mountain ranges, bodies of water\n",
            "Repubblica Italiana \t\t LOC \t\t\t Non-GPE locations, mountain ranges, bodies of water\n",
            "PSI \t\t ORG \t\t\t Companies, agencies, institutions, etc.\n"
          ]
        }
      ]
    },
    {
      "cell_type": "code",
      "source": [
        "text_ents = text\n",
        "for i in range(len(doc.ents)):\n",
        "  text_ents = text_ents.replace(doc.ents[i].text, doc.ents[i].text+\"(\"+ doc.ents[i].label_ +\")\")\n",
        "text_ents"
      ],
      "metadata": {
        "colab": {
          "base_uri": "https://localhost:8080/",
          "height": 87
        },
        "id": "jfz8OvYWUtvK",
        "outputId": "c702d41b-5310-4934-8165-e622183b8a86"
      },
      "execution_count": null,
      "outputs": [
        {
          "output_type": "execute_result",
          "data": {
            "text/plain": [
              "'Alessandro Giuseppe Antonio Pertini(PER), detto Sandro(LOC) (Stella(LOC), 25 settembre 1896 – Roma(LOC), 24 febbraio 1990), è stato un politico, giornalista e partigiano italiano. Fu il settimo presidente della Repubblica Italiana(LOC) dal 1978 al 1985, primo socialista e unico esponente del PSI(ORG) a ricoprire la carica.'"
            ],
            "application/vnd.google.colaboratory.intrinsic+json": {
              "type": "string"
            }
          },
          "metadata": {},
          "execution_count": 26
        }
      ]
    },
    {
      "cell_type": "code",
      "source": [
        "for i, token in enumerate(doc):\n",
        "  print(token,\"\\t\",i)"
      ],
      "metadata": {
        "colab": {
          "base_uri": "https://localhost:8080/"
        },
        "id": "2s75iOqcYG7r",
        "outputId": "1af7e174-0e74-42b2-ff7a-4c20cc0d8a83"
      },
      "execution_count": null,
      "outputs": [
        {
          "output_type": "stream",
          "name": "stdout",
          "text": [
            "Alessandro \t 0\n",
            "Giuseppe \t 1\n",
            "Antonio \t 2\n",
            "Pertini \t 3\n",
            ", \t 4\n",
            "detto \t 5\n",
            "Sandro \t 6\n",
            "( \t 7\n",
            "Stella \t 8\n",
            ", \t 9\n",
            "25 \t 10\n",
            "settembre \t 11\n",
            "1896 \t 12\n",
            "– \t 13\n",
            "Roma \t 14\n",
            ", \t 15\n",
            "24 \t 16\n",
            "febbraio \t 17\n",
            "1990 \t 18\n",
            ") \t 19\n",
            ", \t 20\n",
            "è \t 21\n",
            "stato \t 22\n",
            "un \t 23\n",
            "politico \t 24\n",
            ", \t 25\n",
            "giornalista \t 26\n",
            "e \t 27\n",
            "partigiano \t 28\n",
            "italiano \t 29\n",
            ". \t 30\n",
            "Fu \t 31\n",
            "il \t 32\n",
            "settimo \t 33\n",
            "presidente \t 34\n",
            "della \t 35\n",
            "Repubblica \t 36\n",
            "Italiana \t 37\n",
            "dal \t 38\n",
            "1978 \t 39\n",
            "al \t 40\n",
            "1985 \t 41\n",
            ", \t 42\n",
            "primo \t 43\n",
            "socialista \t 44\n",
            "e \t 45\n",
            "unico \t 46\n",
            "esponente \t 47\n",
            "del \t 48\n",
            "PSI \t 49\n",
            "a \t 50\n",
            "ricoprire \t 51\n",
            "la \t 52\n",
            "carica \t 53\n",
            ". \t 54\n"
          ]
        }
      ]
    },
    {
      "cell_type": "code",
      "source": [
        "ents = list(doc.ents)\n",
        "\n",
        "date_tag = doc.vocab.strings[\"DATE\"]\n",
        "date_1 = Span(doc, 10, 13, label= date_tag)\n",
        "date_2 = Span(doc, 16, 19, label= date_tag)\n",
        "date_3 = Span(doc, 39, 42, label= date_tag)\n",
        "\n",
        "\n",
        "del ents[1]\n",
        "person_tag = doc.vocab.strings[\"PER\"]\n",
        "person = Span(doc, 6, 7, label= person_tag)\n",
        "\n",
        "del ents[3]\n",
        "geo_pol_tag = doc.vocab.strings[\"GPE\"]\n",
        "gpe = Span(doc, 36, 38, label= geo_pol_tag)\n",
        "\n",
        "doc.ents = ents +[date_1, date_2, date_3, person, gpe]\n",
        "doc.ents"
      ],
      "metadata": {
        "colab": {
          "base_uri": "https://localhost:8080/"
        },
        "id": "fk_9sCudYcVy",
        "outputId": "bc671c98-d873-4eb3-e9dc-4f28c8e60345"
      },
      "execution_count": null,
      "outputs": [
        {
          "output_type": "execute_result",
          "data": {
            "text/plain": [
              "(Alessandro Giuseppe Antonio Pertini,\n",
              " Sandro,\n",
              " Stella,\n",
              " 25 settembre 1896,\n",
              " Roma,\n",
              " 24 febbraio 1990,\n",
              " Repubblica Italiana,\n",
              " 1978 al 1985,\n",
              " PSI)"
            ]
          },
          "metadata": {},
          "execution_count": 28
        }
      ]
    },
    {
      "cell_type": "code",
      "source": [
        "print(\"ENTITIES\\t\\tLABEL\\t\\t\\t\\tDESCRIPTION\\n\")\n",
        "for ent in doc.ents:\n",
        "  print(ent.text, \"\\t\\t\", ent.label_, \"\\t\\t\\t\", spacy.explain(ent.label_))"
      ],
      "metadata": {
        "colab": {
          "base_uri": "https://localhost:8080/"
        },
        "id": "BTkGcbvbbZRc",
        "outputId": "e361a9fc-c76a-46f5-95a8-ececcb0cd327"
      },
      "execution_count": null,
      "outputs": [
        {
          "output_type": "stream",
          "name": "stdout",
          "text": [
            "ENTITIES\t\tLABEL\t\t\t\tDESCRIPTION\n",
            "\n",
            "Alessandro Giuseppe Antonio Pertini \t\t PER \t\t\t Named person or family.\n",
            "Sandro \t\t PER \t\t\t Named person or family.\n",
            "Stella \t\t LOC \t\t\t Non-GPE locations, mountain ranges, bodies of water\n",
            "25 settembre 1896 \t\t DATE \t\t\t Absolute or relative dates or periods\n",
            "Roma \t\t LOC \t\t\t Non-GPE locations, mountain ranges, bodies of water\n",
            "24 febbraio 1990 \t\t DATE \t\t\t Absolute or relative dates or periods\n",
            "Repubblica Italiana \t\t GPE \t\t\t Countries, cities, states\n",
            "1978 al 1985 \t\t DATE \t\t\t Absolute or relative dates or periods\n",
            "PSI \t\t ORG \t\t\t Companies, agencies, institutions, etc.\n"
          ]
        }
      ]
    },
    {
      "cell_type": "code",
      "source": [
        "displacy.render(doc, style=\"ent\")"
      ],
      "metadata": {
        "colab": {
          "base_uri": "https://localhost:8080/",
          "height": 157
        },
        "id": "K4G94MJHfO7x",
        "outputId": "8ce500ee-7025-428a-9839-ab64e4b88797"
      },
      "execution_count": null,
      "outputs": [
        {
          "output_type": "display_data",
          "data": {
            "text/plain": [
              "<IPython.core.display.HTML object>"
            ],
            "text/html": [
              "<span class=\"tex2jax_ignore\"><div class=\"entities\" style=\"line-height: 2.5; direction: ltr\">\n",
              "<mark class=\"entity\" style=\"background: #ddd; padding: 0.45em 0.6em; margin: 0 0.25em; line-height: 1; border-radius: 0.35em;\">\n",
              "    Alessandro Giuseppe Antonio Pertini\n",
              "    <span style=\"font-size: 0.8em; font-weight: bold; line-height: 1; border-radius: 0.35em; vertical-align: middle; margin-left: 0.5rem\">PER</span>\n",
              "</mark>\n",
              ", detto \n",
              "<mark class=\"entity\" style=\"background: #ddd; padding: 0.45em 0.6em; margin: 0 0.25em; line-height: 1; border-radius: 0.35em;\">\n",
              "    Sandro\n",
              "    <span style=\"font-size: 0.8em; font-weight: bold; line-height: 1; border-radius: 0.35em; vertical-align: middle; margin-left: 0.5rem\">PER</span>\n",
              "</mark>\n",
              " (\n",
              "<mark class=\"entity\" style=\"background: #ff9561; padding: 0.45em 0.6em; margin: 0 0.25em; line-height: 1; border-radius: 0.35em;\">\n",
              "    Stella\n",
              "    <span style=\"font-size: 0.8em; font-weight: bold; line-height: 1; border-radius: 0.35em; vertical-align: middle; margin-left: 0.5rem\">LOC</span>\n",
              "</mark>\n",
              ", \n",
              "<mark class=\"entity\" style=\"background: #bfe1d9; padding: 0.45em 0.6em; margin: 0 0.25em; line-height: 1; border-radius: 0.35em;\">\n",
              "    25 settembre 1896\n",
              "    <span style=\"font-size: 0.8em; font-weight: bold; line-height: 1; border-radius: 0.35em; vertical-align: middle; margin-left: 0.5rem\">DATE</span>\n",
              "</mark>\n",
              " – \n",
              "<mark class=\"entity\" style=\"background: #ff9561; padding: 0.45em 0.6em; margin: 0 0.25em; line-height: 1; border-radius: 0.35em;\">\n",
              "    Roma\n",
              "    <span style=\"font-size: 0.8em; font-weight: bold; line-height: 1; border-radius: 0.35em; vertical-align: middle; margin-left: 0.5rem\">LOC</span>\n",
              "</mark>\n",
              ", \n",
              "<mark class=\"entity\" style=\"background: #bfe1d9; padding: 0.45em 0.6em; margin: 0 0.25em; line-height: 1; border-radius: 0.35em;\">\n",
              "    24 febbraio 1990\n",
              "    <span style=\"font-size: 0.8em; font-weight: bold; line-height: 1; border-radius: 0.35em; vertical-align: middle; margin-left: 0.5rem\">DATE</span>\n",
              "</mark>\n",
              "), è stato un politico, giornalista e partigiano italiano. Fu il settimo presidente della \n",
              "<mark class=\"entity\" style=\"background: #feca74; padding: 0.45em 0.6em; margin: 0 0.25em; line-height: 1; border-radius: 0.35em;\">\n",
              "    Repubblica Italiana\n",
              "    <span style=\"font-size: 0.8em; font-weight: bold; line-height: 1; border-radius: 0.35em; vertical-align: middle; margin-left: 0.5rem\">GPE</span>\n",
              "</mark>\n",
              " dal \n",
              "<mark class=\"entity\" style=\"background: #bfe1d9; padding: 0.45em 0.6em; margin: 0 0.25em; line-height: 1; border-radius: 0.35em;\">\n",
              "    1978 al 1985\n",
              "    <span style=\"font-size: 0.8em; font-weight: bold; line-height: 1; border-radius: 0.35em; vertical-align: middle; margin-left: 0.5rem\">DATE</span>\n",
              "</mark>\n",
              ", primo socialista e unico esponente del \n",
              "<mark class=\"entity\" style=\"background: #7aecec; padding: 0.45em 0.6em; margin: 0 0.25em; line-height: 1; border-radius: 0.35em;\">\n",
              "    PSI\n",
              "    <span style=\"font-size: 0.8em; font-weight: bold; line-height: 1; border-radius: 0.35em; vertical-align: middle; margin-left: 0.5rem\">ORG</span>\n",
              "</mark>\n",
              " a ricoprire la carica.</div></span>"
            ]
          },
          "metadata": {}
        }
      ]
    }
  ]
}